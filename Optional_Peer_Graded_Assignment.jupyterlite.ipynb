{
  "cells": [
    {
      "cell_type": "markdown",
      "metadata": {},
      "source": [
        "<p style=\"text-align:center\">\n",
        "    <a href=\"https://skills.network/?utm_medium=Exinfluencer&utm_source=Exinfluencer&utm_content=000026UJ&utm_term=10006555&utm_id=NA-SkillsNetwork-Channel-SkillsNetworkCoursesIBMDeveloperSkillsNetworkST0151ENSkillsNetwork20531532-2022-01-01\" target=\"_blank\">\n",
        "    <img src=\"https://cf-courses-data.s3.us.cloud-object-storage.appdomain.cloud/assets/logos/SN_web_lightmode.png\" width=\"200\" alt=\"Skills Network Logo\"  />\n",
        "    </a>\n",
        "</p>\n",
        "\n"
      ]
    },
    {
      "cell_type": "markdown",
      "metadata": {},
      "source": [
        "#### Import the required libraries we need for the lab.\n"
      ]
    },
    {
      "cell_type": "code",
      "execution_count": 2,
      "metadata": {
        "trusted": true
      },
      "outputs": [],
      "source": [
        "import piplite\n",
        "await piplite.install(['numpy'],['pandas'])\n",
        "await piplite.install(['seaborn'])"
      ]
    },
    {
      "cell_type": "code",
      "execution_count": 3,
      "metadata": {
        "trusted": true
      },
      "outputs": [
        {
          "name": "stderr",
          "output_type": "stream",
          "text": [
            "<ipython-input-3-b3fdaf15785b>:1: DeprecationWarning: \n",
            "Pyarrow will become a required dependency of pandas in the next major release of pandas (pandas 3.0),\n",
            "(to allow more performant data types, such as the Arrow string type, and better interoperability with other libraries)\n",
            "but was not found to be installed on your system.\n",
            "If this would cause problems for you,\n",
            "please provide us feedback at https://github.com/pandas-dev/pandas/issues/54466\n",
            "        \n",
            "  import pandas as pd\n"
          ]
        }
      ],
      "source": [
        "import pandas as pd\n",
        "import pandas as pd\n",
        "import seaborn as sns\n",
        "import matplotlib.pyplot as pyplot\n",
        "import scipy.stats\n",
        "import statsmodels.api as sm\n",
        "from statsmodels.formula.api import ols"
      ]
    },
    {
      "cell_type": "markdown",
      "metadata": {},
      "source": [
        "#### Read the dataset in the csv file from the URL\n"
      ]
    },
    {
      "cell_type": "code",
      "execution_count": 4,
      "metadata": {
        "trusted": true
      },
      "outputs": [],
      "source": [
        "from js import fetch\n",
        "import io\n",
        "\n",
        "URL = 'https://cf-courses-data.s3.us.cloud-object-storage.appdomain.cloud/IBMDeveloperSkillsNetwork-ST0151EN-SkillsNetwork/labs/boston_housing.csv'\n",
        "resp = await fetch(URL)\n",
        "boston_url = io.BytesIO((await resp.arrayBuffer()).to_py())"
      ]
    },
    {
      "cell_type": "code",
      "execution_count": 5,
      "metadata": {
        "trusted": true
      },
      "outputs": [],
      "source": [
        "boston_df = pd.read_csv(boston_url)"
      ]
    },
    {
      "cell_type": "markdown",
      "metadata": {},
      "source": [
        "#### Add your code below following the instructions given in the course to complete the peer graded assignment\n"
      ]
    },
    {
      "cell_type": "markdown",
      "metadata": {
        "jp-MarkdownHeadingCollapsed": true
      },
      "source": [
        "## Task 2: Descriptive statistics and visualizations"
      ]
    },
    {
      "cell_type": "markdown",
      "metadata": {},
      "source": [
        "For all visualizations, please include a title in each graph and appropriate labels\n",
        "\n",
        "Generate the following and explain your findings:\n",
        "\n",
        "- For the \"Median value of owner-occupied homes\" provide a boxplot\n",
        "- Provide a  bar plot for the Charles river variable\n",
        "- Provide a boxplot for the MEDV variable vs the AGE variable. (Discretize the age variable into three groups of 35 years and younger, between 35 and 70 years and 70 years and older)\n",
        "- Provide a scatter plot to show the relationship between Nitric oxide concentrations and the proportion of non-retail business acres per town. What can you say about the relationship?\n",
        "- Create a histogram for the pupil to teacher ratio variable"
      ]
    },
    {
      "cell_type": "markdown",
      "metadata": {},
      "source": [
        "Here a description of the column in the dataset: \n",
        "\n",
        "- `CRIM` - per capita crime rate by town\n",
        "- `ZN` - proportion of residential land zoned for lots over 25,000 sq.ft.\n",
        "- `INDUS` - proportion of non-retail business acres per town.\n",
        "- `CHAS` - Charles River dummy variable (1 if tract bounds river; 0 otherwise)\n",
        "- `NOX` - nitric oxides concentration (parts per 10 million)\n",
        "- `RM` - average number of rooms per dwelling\n",
        "- `AGE` - proportion of owner-occupied units built prior to 1940\n",
        "- `DIS` - weighted distances to five Boston employment centres\n",
        "- `RAD` - index of accessibility to radial highways\n",
        "- `TAX` - full-value property-tax rate per $10,000\n",
        "- `PTRATIO` - pupil-teacher ratio by town\n",
        "- `LSTAT` - % lower status of the population\n",
        "- `MEDV` - Median value of owner-occupied homes in 1000's"
      ]
    },
    {
      "cell_type": "markdown",
      "metadata": {
        "jp-MarkdownHeadingCollapsed": true
      },
      "source": [
        "### Median value of owner occupied homes - Box plot"
      ]
    },
    {
      "cell_type": "code",
      "execution_count": 6,
      "metadata": {
        "trusted": true
      },
      "outputs": [],
      "source": [
        "boston_df = boston_df.loc[:, 'CRIM':'MEDV'] # dropping the first column - unnecessary"
      ]
    },
    {
      "cell_type": "code",
      "execution_count": 57,
      "metadata": {
        "trusted": true
      },
      "outputs": [
        {
          "data": {
            "image/png": "[encoded data removed]",
            "text/plain": [
              "<Figure size 640x480 with 1 Axes>"
            ]
          },
          "metadata": {},
          "output_type": "display_data"
        }
      ],
      "source": [
        "pyplot.boxplot([boston_df['AGE']], patch_artist = True)\n",
        "pyplot.show()"
      ]
    },
    {
      "cell_type": "markdown",
      "metadata": {},
      "source": [
        "### Charles River - Barplot"
      ]
    },
    {
      "cell_type": "code",
      "execution_count": 97,
      "metadata": {
        "trusted": true
      },
      "outputs": [
        {
          "data": {
            "image/png": "[encoded data removed]",
            "text/plain": [
              "<Figure size 640x480 with 1 Axes>"
            ]
          },
          "metadata": {},
          "output_type": "display_data"
        }
      ],
      "source": [
        "category_counts = boston_df['CHAS'].value_counts()\n",
        "\n",
        "pyplot.bar(\n",
        "    category_counts.index,\n",
        "    category_counts.values,\n",
        "    color = 'skyblue',\n",
        "    alpha = .75\n",
        ")\n",
        "\n",
        "pyplot.xlabel('CHAS')\n",
        "pyplot.ylabel('COUNTS')\n",
        "pyplot.xticks(\n",
        "    ticks=range(len(category_counts)),\n",
        "    labels=['0', '1']\n",
        ")\n",
        "pyplot.show()"
      ]
    },
    {
      "cell_type": "markdown",
      "metadata": {},
      "source": [
        "- Provide a boxplot for the MEDV variable vs the AGE variable. (Discretize the age variable into three groups of 35 years and younger, between 35 and 70 years and 70 years and older)"
      ]
    },
    {
      "cell_type": "markdown",
      "metadata": {
        "jp-MarkdownHeadingCollapsed": true
      },
      "source": [
        "### MEDV v. AGE - Boxplot"
      ]
    },
    {
      "cell_type": "code",
      "execution_count": 98,
      "metadata": {
        "trusted": true
      },
      "outputs": [],
      "source": [
        "boston_df['AGE_BINNED'] = pd.cut(\n",
        "    boston_df['AGE'],\n",
        "    bins = [0, 35, 70, float('inf')],\n",
        "    labels = ['0-35', '35-70', '70+']\n",
        ")"
      ]
    },
    {
      "cell_type": "code",
      "execution_count": 99,
      "metadata": {
        "trusted": true
      },
      "outputs": [
        {
          "data": {
            "image/png": "[encoded data removed]",
            "text/plain": [
              "<Figure size 640x480 with 1 Axes>"
            ]
          },
          "metadata": {},
          "output_type": "display_data"
        }
      ],
      "source": [
        "categories = boston_df['AGE_BINNED'].unique()\n",
        "\n",
        "data_to_plot = [boston_df[boston_df['AGE_BINNED'] == category]['MEDV'] for category in categories]\n",
        "\n",
        "pyplot.boxplot(\n",
        "    data_to_plot,\n",
        "    labels = categories,\n",
        "    patch_artist = True\n",
        ")\n",
        "pyplot.xlabel('AGE')\n",
        "pyplot.ylabel('MEDV')\n",
        "pyplot.show()"
      ]
    },
    {
      "cell_type": "markdown",
      "metadata": {},
      "source": [
        "- Provide a scatter plot to show the relationship between Nitric oxide concentrations and the proportion of non-retail business acres per town. What can you say about the relationship?"
      ]
    },
    {
      "cell_type": "markdown",
      "metadata": {
        "jp-MarkdownHeadingCollapsed": true
      },
      "source": [
        "### Nitric Oxide v. Non-retail business per acres - Scatter plot"
      ]
    },
    {
      "cell_type": "code",
      "execution_count": 100,
      "metadata": {
        "trusted": true
      },
      "outputs": [
        {
          "data": {
            "image/png": "[encoded data removed]",
            "text/plain": [
              "<Figure size 640x480 with 1 Axes>"
            ]
          },
          "metadata": {},
          "output_type": "display_data"
        }
      ],
      "source": [
        "pyplot.scatter(\n",
        "    boston_df['NOX'],\n",
        "    boston_df['INDUS'],\n",
        "    color = 'skyblue',\n",
        "    alpha = .75,\n",
        "    marker = 'o'\n",
        ")\n",
        "pyplot.xlabel('X-axis Label')\n",
        "pyplot.ylabel('Y-axis Label')\n",
        "pyplot.show()"
      ]
    },
    {
      "cell_type": "markdown",
      "metadata": {},
      "source": [
        "- Create a histogram for the pupil to teacher ratio variable"
      ]
    },
    {
      "cell_type": "markdown",
      "metadata": {
        "jp-MarkdownHeadingCollapsed": true
      },
      "source": [
        "### Pupil-to-teacher ratio - Histogram"
      ]
    },
    {
      "cell_type": "code",
      "execution_count": 95,
      "metadata": {
        "trusted": true
      },
      "outputs": [
        {
          "data": {
            "image/png": "[encoded data removed]",
            "text/plain": [
              "<Figure size 640x480 with 1 Axes>"
            ]
          },
          "metadata": {},
          "output_type": "display_data"
        }
      ],
      "source": [
        "pyplot.hist(\n",
        "    boston_df['PTRATIO'],\n",
        "    color = 'skyblue',\n",
        "    alpha = .75\n",
        ")\n",
        "pyplot.show()"
      ]
    },
    {
      "cell_type": "markdown",
      "metadata": {},
      "source": [
        "## Task 3 - Use the appropriate tests to answer the questions provided"
      ]
    },
    {
      "cell_type": "markdown",
      "metadata": {},
      "source": [
        "For each of the following questions;\n",
        "\n",
        "- Is there a significant difference in median value of houses bounded by the Charles river or not? (T-test for independent samples)\n",
        "\n",
        "- Is there a difference in Median values of houses (MEDV) for each proportion of owner occupied units built prior to 1940 (AGE)? (ANOVA)\n",
        "\n",
        "- Can we conclude that there is no relationship between Nitric oxide concentrations and proportion of non-retail business acres per town? (Pearson Correlation)\n",
        "\n",
        "- What is the impact of an additional weighted distance  to the five Boston employment centres on the median value of owner occupied homes? (Regression analysis)\n",
        "\n",
        "Be sure to:\n",
        "\n",
        "- State your hypothesis.\n",
        "\n",
        "- Use α = 0.05\n",
        "\n",
        "- Perform the test Statistics.\n",
        "\n",
        "- State the conclusion from the test."
      ]
    },
    {
      "cell_type": "markdown",
      "metadata": {
        "jp-MarkdownHeadingCollapsed": true
      },
      "source": [
        "### Is there a significant difference in median value of houses bounded by the Charles river or not? (T-test for independent samples)"
      ]
    },
    {
      "cell_type": "markdown",
      "metadata": {},
      "source": [
        "Let $\\mu_X$ denote the average value of houses in close proximity to the Charles river and let $\\mu_Y$ be the average value of houses not in close proximity to the Charlers river. My belief is that estates in proximity to the river should be (on average) worth more than those that are not. Hence, the two hypotheses for our test are:\n",
        "\n",
        "- $H_0$: $\\mu_X = \\mu_Y$.\n",
        "- $H_1$: $\\mu_X > \\mu_Y$.\n",
        "\n",
        "Before performing the t-Test, checking for equality of variances of the two samples is needed. To this end, we can perform the Levene's Test:"
      ]
    },
    {
      "cell_type": "code",
      "execution_count": 110,
      "metadata": {
        "trusted": true
      },
      "outputs": [
        {
          "data": {
            "text/plain": [
              "0.003238119367639829"
            ]
          },
          "execution_count": 110,
          "metadata": {},
          "output_type": "execute_result"
        }
      ],
      "source": [
        "scipy.stats.levene(\n",
        "    boston_df[boston_df['CHAS'] == 1]['MEDV'],\n",
        "    boston_df[boston_df['CHAS'] == 0]['MEDV'],\n",
        "    center = 'mean'\n",
        ").pvalue"
      ]
    },
    {
      "cell_type": "markdown",
      "metadata": {},
      "source": [
        "The Levene's test p-value is smaller than $\\alpha=0.05$; hence, we reject $H_0$ and conclude that there is a significant difference in variances across the groups. \n",
        "\n",
        "We can now proceed to perform a two-sample t-test with unequal variance."
      ]
    },
    {
      "cell_type": "code",
      "execution_count": 135,
      "metadata": {
        "trusted": true
      },
      "outputs": [
        {
          "data": {
            "text/plain": [
              "TtestResult(statistic=3.113291312794837, pvalue=0.003567170098137517, df=36.876408797611994)"
            ]
          },
          "execution_count": 135,
          "metadata": {},
          "output_type": "execute_result"
        }
      ],
      "source": [
        "scipy.stats.ttest_ind(\n",
        "    boston_df[boston_df['CHAS'] == 1]['MEDV'],\n",
        "    boston_df[boston_df['CHAS'] == 0]['MEDV'],\n",
        "    equal_var = False\n",
        ")"
      ]
    },
    {
      "cell_type": "markdown",
      "metadata": {},
      "source": [
        "Given that the p-value 0.00356 is less than the 0.05 significance level, we fail to reject the null hypothesis and conclude that there is no enough statistical evidence to support our assumption that estates in close proximity to the river are more valuable than the others."
      ]
    },
    {
      "cell_type": "markdown",
      "metadata": {
        "jp-MarkdownHeadingCollapsed": true
      },
      "source": [
        "### Is there a difference in Median values of houses (MEDV) for each proportion of owner occupied units built prior to 1940 (AGE)?"
      ]
    },
    {
      "cell_type": "markdown",
      "metadata": {},
      "source": [
        "As we did above, the first step is to test for equality of variance via the Levene's test:"
      ]
    },
    {
      "cell_type": "code",
      "execution_count": 147,
      "metadata": {
        "trusted": true
      },
      "outputs": [],
      "source": [
        "zero_thirtyfive_medv = boston_df[boston_df['AGE_BINNED'] == '0-35']['MEDV']\n",
        "thirtyfive_seventy_medv = boston_df[boston_df['AGE_BINNED'] == '35-70']['MEDV']\n",
        "seventy_plus_medv = boston_df[boston_df['AGE_BINNED'] == '70+']['MEDV']"
      ]
    },
    {
      "cell_type": "code",
      "execution_count": 148,
      "metadata": {
        "trusted": true
      },
      "outputs": [
        {
          "data": {
            "text/plain": [
              "0.06295337343259205"
            ]
          },
          "execution_count": 148,
          "metadata": {},
          "output_type": "execute_result"
        }
      ],
      "source": [
        "scipy.stats.levene(\n",
        "    zero_thirtyfive_medv,\n",
        "    thirtyfive_seventy_medv,\n",
        "    seventy_plus_medv,\n",
        "    center = 'mean'\n",
        ").pvalue"
      ]
    },
    {
      "cell_type": "markdown",
      "metadata": {},
      "source": [
        "Given the results of such test, we fail to reject $H_0$ and conclude that there is no statistical significance in the groups' variances.\n",
        "\n",
        "We can now perform an ANOVA test, which hypotheses are: \n",
        "\n",
        "- $H_0$: $\\mu_{\\text{0-35}} = \\mu_{\\text{35-70}} = \\mu_{\\text{70+}}$.\n",
        "- $H_1$: At least one of the group mean is different from the other group means."
      ]
    },
    {
      "cell_type": "code",
      "execution_count": 157,
      "metadata": {
        "trusted": true
      },
      "outputs": [
        {
          "data": {
            "text/plain": [
              "1.7105011022702984e-15"
            ]
          },
          "execution_count": 157,
          "metadata": {},
          "output_type": "execute_result"
        }
      ],
      "source": [
        "f_statistic, p_value = \\\n",
        "    scipy.stats.f_oneway(\n",
        "        zero_thirtyfive_medv,\n",
        "        thirtyfive_seventy_medv,\n",
        "        seventy_plus_medv        \n",
        "    )\n",
        "p_value"
      ]
    },
    {
      "cell_type": "markdown",
      "metadata": {},
      "source": [
        "Since the p-value (1.7e-15) is much smaller than the significance level of 0.05, we reject $H_0$ and conclude that there is a significant difference in means across the groups"
      ]
    },
    {
      "cell_type": "markdown",
      "metadata": {},
      "source": [
        "### Can we conclude that there is no relationship between Nitric oxide concentrations and proportion of non-retail business acres per town?"
      ]
    },
    {
      "cell_type": "markdown",
      "metadata": {},
      "source": [
        "To investigate whether there is or there is not relationship between Nitric oxide concentrations and proportion of non-retail business acres per town, we can carry out the Pearson correlation test. Here are the hypotheses:\n",
        "\n",
        "- $H_0$: $r = 0 \\rightarrow$ There is no linear relationship between Nitric oxide concentrations and proportion of non-retail business acres per town.\n",
        "- $H_1$: $r ≠ 0 \\rightarrow$ There is a linear relationship between Nitric oxide concentrations and proportion of non-retail business acres per town."
      ]
    },
    {
      "cell_type": "code",
      "execution_count": 161,
      "metadata": {
        "trusted": true
      },
      "outputs": [
        {
          "data": {
            "text/plain": [
              "PearsonRResult(statistic=-0.4273207723732828, pvalue=7.065041586253293e-24)"
            ]
          },
          "execution_count": 161,
          "metadata": {},
          "output_type": "execute_result"
        }
      ],
      "source": [
        "scipy.stats.pearsonr(boston_df['NOX'], boston_df['MEDV'])"
      ]
    },
    {
      "cell_type": "markdown",
      "metadata": {},
      "source": [
        "Given the entity of the p-value (7.06e-24), we reject $H_0$ and conclude that there is a linear relationship between the two variables."
      ]
    }
  ],
  "metadata": {
    "kernelspec": {
      "display_name": "Python (Pyodide)",
      "language": "python",
      "name": "python"
    },
    "language_info": {
      "codemirror_mode": {
        "name": "python",
        "version": 3
      },
      "file_extension": ".py",
      "mimetype": "text/x-python",
      "name": "python",
      "nbconvert_exporter": "python",
      "pygments_lexer": "ipython3",
      "version": "3.8"
    }
  },
  "nbformat": 4,
  "nbformat_minor": 4
}
